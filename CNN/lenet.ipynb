version https://git-lfs.github.com/spec/v1
oid sha256:8a4251bde59712fec0a60f10695933fe576692bd46f1a8573350c64b5ec6ebda
size 14116
