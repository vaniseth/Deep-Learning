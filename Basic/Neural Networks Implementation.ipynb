version https://git-lfs.github.com/spec/v1
oid sha256:cfc9802c62cf76a5a1d8e3d8ea9f4da29be3dfea25dfaced0aec3caa87383860
size 166212
