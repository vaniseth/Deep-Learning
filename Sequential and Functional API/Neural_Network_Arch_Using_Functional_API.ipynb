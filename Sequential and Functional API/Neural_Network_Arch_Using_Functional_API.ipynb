version https://git-lfs.github.com/spec/v1
oid sha256:db79144275e738759cc5804109e478b6e8e2b9583181dc29409fba72969c94e2
size 43894
