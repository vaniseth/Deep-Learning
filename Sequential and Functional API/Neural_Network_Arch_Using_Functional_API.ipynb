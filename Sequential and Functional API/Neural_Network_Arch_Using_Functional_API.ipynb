version https://git-lfs.github.com/spec/v1
oid sha256:07972d167c9d5a62d7773cd020af967024ab5815cd57c16deb2e65ffaa490d02
size 43820
